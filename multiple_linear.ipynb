{
 "cells": [
  {
   "cell_type": "code",
   "execution_count": 29,
   "metadata": {},
   "outputs": [],
   "source": [
    "import numpy as np\n",
    "import pandas as pd\n",
    "import matplotlib.pyplot as plt"
   ]
  },
  {
   "cell_type": "code",
   "execution_count": 30,
   "metadata": {},
   "outputs": [
    {
     "data": {
      "text/html": [
       "<div>\n",
       "<style scoped>\n",
       "    .dataframe tbody tr th:only-of-type {\n",
       "        vertical-align: middle;\n",
       "    }\n",
       "\n",
       "    .dataframe tbody tr th {\n",
       "        vertical-align: top;\n",
       "    }\n",
       "\n",
       "    .dataframe thead th {\n",
       "        text-align: right;\n",
       "    }\n",
       "</style>\n",
       "<table border=\"1\" class=\"dataframe\">\n",
       "  <thead>\n",
       "    <tr style=\"text-align: right;\">\n",
       "      <th></th>\n",
       "      <th>month_number</th>\n",
       "      <th>facecream</th>\n",
       "      <th>facewash</th>\n",
       "      <th>toothpaste</th>\n",
       "      <th>bathingsoap</th>\n",
       "      <th>shampoo</th>\n",
       "      <th>moisturizer</th>\n",
       "      <th>total_units</th>\n",
       "      <th>total_profit</th>\n",
       "    </tr>\n",
       "  </thead>\n",
       "  <tbody>\n",
       "    <tr>\n",
       "      <th>0</th>\n",
       "      <td>1</td>\n",
       "      <td>2500</td>\n",
       "      <td>1500</td>\n",
       "      <td>5200</td>\n",
       "      <td>9200</td>\n",
       "      <td>1200</td>\n",
       "      <td>1500</td>\n",
       "      <td>21100</td>\n",
       "      <td>211000</td>\n",
       "    </tr>\n",
       "    <tr>\n",
       "      <th>1</th>\n",
       "      <td>2</td>\n",
       "      <td>2630</td>\n",
       "      <td>1200</td>\n",
       "      <td>5100</td>\n",
       "      <td>6100</td>\n",
       "      <td>2100</td>\n",
       "      <td>1200</td>\n",
       "      <td>18330</td>\n",
       "      <td>183300</td>\n",
       "    </tr>\n",
       "    <tr>\n",
       "      <th>2</th>\n",
       "      <td>3</td>\n",
       "      <td>2140</td>\n",
       "      <td>1340</td>\n",
       "      <td>4550</td>\n",
       "      <td>9550</td>\n",
       "      <td>3550</td>\n",
       "      <td>1340</td>\n",
       "      <td>22470</td>\n",
       "      <td>224700</td>\n",
       "    </tr>\n",
       "    <tr>\n",
       "      <th>3</th>\n",
       "      <td>4</td>\n",
       "      <td>3400</td>\n",
       "      <td>1130</td>\n",
       "      <td>5870</td>\n",
       "      <td>8870</td>\n",
       "      <td>1870</td>\n",
       "      <td>1130</td>\n",
       "      <td>22270</td>\n",
       "      <td>222700</td>\n",
       "    </tr>\n",
       "    <tr>\n",
       "      <th>4</th>\n",
       "      <td>5</td>\n",
       "      <td>3600</td>\n",
       "      <td>1740</td>\n",
       "      <td>4560</td>\n",
       "      <td>7760</td>\n",
       "      <td>1560</td>\n",
       "      <td>1740</td>\n",
       "      <td>20960</td>\n",
       "      <td>209600</td>\n",
       "    </tr>\n",
       "    <tr>\n",
       "      <th>5</th>\n",
       "      <td>6</td>\n",
       "      <td>2760</td>\n",
       "      <td>1555</td>\n",
       "      <td>4890</td>\n",
       "      <td>7490</td>\n",
       "      <td>1890</td>\n",
       "      <td>1555</td>\n",
       "      <td>20140</td>\n",
       "      <td>201400</td>\n",
       "    </tr>\n",
       "    <tr>\n",
       "      <th>6</th>\n",
       "      <td>7</td>\n",
       "      <td>2980</td>\n",
       "      <td>1120</td>\n",
       "      <td>4780</td>\n",
       "      <td>8980</td>\n",
       "      <td>1780</td>\n",
       "      <td>1120</td>\n",
       "      <td>29550</td>\n",
       "      <td>295500</td>\n",
       "    </tr>\n",
       "    <tr>\n",
       "      <th>7</th>\n",
       "      <td>8</td>\n",
       "      <td>3700</td>\n",
       "      <td>1400</td>\n",
       "      <td>5860</td>\n",
       "      <td>9960</td>\n",
       "      <td>2860</td>\n",
       "      <td>1400</td>\n",
       "      <td>36140</td>\n",
       "      <td>361400</td>\n",
       "    </tr>\n",
       "    <tr>\n",
       "      <th>8</th>\n",
       "      <td>9</td>\n",
       "      <td>3540</td>\n",
       "      <td>1780</td>\n",
       "      <td>6100</td>\n",
       "      <td>8100</td>\n",
       "      <td>2100</td>\n",
       "      <td>1780</td>\n",
       "      <td>23400</td>\n",
       "      <td>234000</td>\n",
       "    </tr>\n",
       "    <tr>\n",
       "      <th>9</th>\n",
       "      <td>10</td>\n",
       "      <td>1990</td>\n",
       "      <td>1890</td>\n",
       "      <td>8300</td>\n",
       "      <td>10300</td>\n",
       "      <td>2300</td>\n",
       "      <td>1890</td>\n",
       "      <td>26670</td>\n",
       "      <td>266700</td>\n",
       "    </tr>\n",
       "    <tr>\n",
       "      <th>10</th>\n",
       "      <td>11</td>\n",
       "      <td>2340</td>\n",
       "      <td>2100</td>\n",
       "      <td>7300</td>\n",
       "      <td>13300</td>\n",
       "      <td>2400</td>\n",
       "      <td>2100</td>\n",
       "      <td>41280</td>\n",
       "      <td>412800</td>\n",
       "    </tr>\n",
       "    <tr>\n",
       "      <th>11</th>\n",
       "      <td>12</td>\n",
       "      <td>2900</td>\n",
       "      <td>1760</td>\n",
       "      <td>7400</td>\n",
       "      <td>14400</td>\n",
       "      <td>1800</td>\n",
       "      <td>1760</td>\n",
       "      <td>30020</td>\n",
       "      <td>300200</td>\n",
       "    </tr>\n",
       "  </tbody>\n",
       "</table>\n",
       "</div>"
      ],
      "text/plain": [
       "    month_number  facecream  facewash  toothpaste  bathingsoap  shampoo  \\\n",
       "0              1       2500      1500        5200         9200     1200   \n",
       "1              2       2630      1200        5100         6100     2100   \n",
       "2              3       2140      1340        4550         9550     3550   \n",
       "3              4       3400      1130        5870         8870     1870   \n",
       "4              5       3600      1740        4560         7760     1560   \n",
       "5              6       2760      1555        4890         7490     1890   \n",
       "6              7       2980      1120        4780         8980     1780   \n",
       "7              8       3700      1400        5860         9960     2860   \n",
       "8              9       3540      1780        6100         8100     2100   \n",
       "9             10       1990      1890        8300        10300     2300   \n",
       "10            11       2340      2100        7300        13300     2400   \n",
       "11            12       2900      1760        7400        14400     1800   \n",
       "\n",
       "    moisturizer  total_units  total_profit  \n",
       "0          1500        21100        211000  \n",
       "1          1200        18330        183300  \n",
       "2          1340        22470        224700  \n",
       "3          1130        22270        222700  \n",
       "4          1740        20960        209600  \n",
       "5          1555        20140        201400  \n",
       "6          1120        29550        295500  \n",
       "7          1400        36140        361400  \n",
       "8          1780        23400        234000  \n",
       "9          1890        26670        266700  \n",
       "10         2100        41280        412800  \n",
       "11         1760        30020        300200  "
      ]
     },
     "execution_count": 30,
     "metadata": {},
     "output_type": "execute_result"
    }
   ],
   "source": [
    "df = pd.read_csv('company_sales_data.csv')\n",
    "df"
   ]
  },
  {
   "cell_type": "code",
   "execution_count": 31,
   "metadata": {},
   "outputs": [],
   "source": [
    "y = df['total_profit']\n",
    "x = df.drop(columns='total_profit')"
   ]
  },
  {
   "cell_type": "code",
   "execution_count": 32,
   "metadata": {},
   "outputs": [
    {
     "data": {
      "text/plain": [
       "(0     211000\n",
       " 1     183300\n",
       " 2     224700\n",
       " 3     222700\n",
       " 4     209600\n",
       " 5     201400\n",
       " 6     295500\n",
       " 7     361400\n",
       " 8     234000\n",
       " 9     266700\n",
       " 10    412800\n",
       " 11    300200\n",
       " Name: total_profit, dtype: int64,\n",
       "     month_number  facecream  facewash  toothpaste  bathingsoap  shampoo  \\\n",
       " 0              1       2500      1500        5200         9200     1200   \n",
       " 1              2       2630      1200        5100         6100     2100   \n",
       " 2              3       2140      1340        4550         9550     3550   \n",
       " 3              4       3400      1130        5870         8870     1870   \n",
       " 4              5       3600      1740        4560         7760     1560   \n",
       " 5              6       2760      1555        4890         7490     1890   \n",
       " 6              7       2980      1120        4780         8980     1780   \n",
       " 7              8       3700      1400        5860         9960     2860   \n",
       " 8              9       3540      1780        6100         8100     2100   \n",
       " 9             10       1990      1890        8300        10300     2300   \n",
       " 10            11       2340      2100        7300        13300     2400   \n",
       " 11            12       2900      1760        7400        14400     1800   \n",
       " \n",
       "     moisturizer  total_units  \n",
       " 0          1500        21100  \n",
       " 1          1200        18330  \n",
       " 2          1340        22470  \n",
       " 3          1130        22270  \n",
       " 4          1740        20960  \n",
       " 5          1555        20140  \n",
       " 6          1120        29550  \n",
       " 7          1400        36140  \n",
       " 8          1780        23400  \n",
       " 9          1890        26670  \n",
       " 10         2100        41280  \n",
       " 11         1760        30020  )"
      ]
     },
     "execution_count": 32,
     "metadata": {},
     "output_type": "execute_result"
    }
   ],
   "source": [
    "y,x"
   ]
  },
  {
   "cell_type": "code",
   "execution_count": 33,
   "metadata": {},
   "outputs": [
    {
     "data": {
      "text/plain": [
       "array([[1.000e+00, 1.000e+00, 2.500e+03, 1.500e+03, 5.200e+03, 9.200e+03,\n",
       "        1.200e+03, 1.500e+03, 2.110e+04],\n",
       "       [1.000e+00, 2.000e+00, 2.630e+03, 1.200e+03, 5.100e+03, 6.100e+03,\n",
       "        2.100e+03, 1.200e+03, 1.833e+04],\n",
       "       [1.000e+00, 3.000e+00, 2.140e+03, 1.340e+03, 4.550e+03, 9.550e+03,\n",
       "        3.550e+03, 1.340e+03, 2.247e+04],\n",
       "       [1.000e+00, 4.000e+00, 3.400e+03, 1.130e+03, 5.870e+03, 8.870e+03,\n",
       "        1.870e+03, 1.130e+03, 2.227e+04],\n",
       "       [1.000e+00, 5.000e+00, 3.600e+03, 1.740e+03, 4.560e+03, 7.760e+03,\n",
       "        1.560e+03, 1.740e+03, 2.096e+04],\n",
       "       [1.000e+00, 6.000e+00, 2.760e+03, 1.555e+03, 4.890e+03, 7.490e+03,\n",
       "        1.890e+03, 1.555e+03, 2.014e+04],\n",
       "       [1.000e+00, 7.000e+00, 2.980e+03, 1.120e+03, 4.780e+03, 8.980e+03,\n",
       "        1.780e+03, 1.120e+03, 2.955e+04],\n",
       "       [1.000e+00, 8.000e+00, 3.700e+03, 1.400e+03, 5.860e+03, 9.960e+03,\n",
       "        2.860e+03, 1.400e+03, 3.614e+04],\n",
       "       [1.000e+00, 9.000e+00, 3.540e+03, 1.780e+03, 6.100e+03, 8.100e+03,\n",
       "        2.100e+03, 1.780e+03, 2.340e+04],\n",
       "       [1.000e+00, 1.000e+01, 1.990e+03, 1.890e+03, 8.300e+03, 1.030e+04,\n",
       "        2.300e+03, 1.890e+03, 2.667e+04],\n",
       "       [1.000e+00, 1.100e+01, 2.340e+03, 2.100e+03, 7.300e+03, 1.330e+04,\n",
       "        2.400e+03, 2.100e+03, 4.128e+04],\n",
       "       [1.000e+00, 1.200e+01, 2.900e+03, 1.760e+03, 7.400e+03, 1.440e+04,\n",
       "        1.800e+03, 1.760e+03, 3.002e+04]])"
      ]
     },
     "execution_count": 33,
     "metadata": {},
     "output_type": "execute_result"
    }
   ],
   "source": [
    "x_b = np.c_[np.ones(x.shape[0]),x]\n",
    "x_b"
   ]
  },
  {
   "cell_type": "code",
   "execution_count": 34,
   "metadata": {},
   "outputs": [
    {
     "data": {
      "text/plain": [
       "array([ 5.95601293e+19, -3.92493449e+18, -6.94252812e+15, -2.27084720e+17,\n",
       "       -1.05741818e+03, -3.59431276e+02, -5.01072451e+02,  2.24036115e+17,\n",
       "        3.59247932e+01])"
      ]
     },
     "execution_count": 34,
     "metadata": {},
     "output_type": "execute_result"
    }
   ],
   "source": [
    "coeff = np.linalg.inv(x_b.T @ x_b) @ x_b.T @ y\n",
    "coeff"
   ]
  },
  {
   "cell_type": "code",
   "execution_count": 35,
   "metadata": {},
   "outputs": [
    {
     "data": {
      "text/plain": [
       "array([ 3.37059674e+19,  2.97930857e+19,  2.88431853e+19,  1.68108724e+19,\n",
       "        9.63778343e+18,  1.21085644e+19,  7.98241681e+18, -1.79474724e+18,\n",
       "       -5.76734701e+18,  7.33290571e+17, -6.26173574e+18, -1.30379604e+19])"
      ]
     },
     "execution_count": 35,
     "metadata": {},
     "output_type": "execute_result"
    }
   ],
   "source": [
    "y_pred = x_b @ coeff\n",
    "y_pred"
   ]
  },
  {
   "cell_type": "code",
   "execution_count": 41,
   "metadata": {},
   "outputs": [
    {
     "data": {
      "image/png": "[encoded data removed]",
      "text/plain": [
       "<Figure size 1200x600 with 1 Axes>"
      ]
     },
     "metadata": {},
     "output_type": "display_data"
    }
   ],
   "source": [
    "\n",
    "plt.figure(figsize=(12,6))\n",
    "plt.xlabel(\"Features\")\n",
    "plt.ylabel(\"Cost\")\n",
    "plt.title(\"MLR\")\n",
    "# plt.scatter(x,y,label='data points')\n",
    "plt.plot(x_b[:,1],y_pred,label='MLR Line', color = 'red')\n",
    "plt.legend(loc=4)\n",
    "plt.show()"
   ]
  },
  {
   "cell_type": "code",
   "execution_count": null,
   "metadata": {},
   "outputs": [],
   "source": []
  }
 ],
 "metadata": {
  "kernelspec": {
   "display_name": "Python 3",
   "language": "python",
   "name": "python3"
  },
  "language_info": {
   "codemirror_mode": {
    "name": "ipython",
    "version": 3
   },
   "file_extension": ".py",
   "mimetype": "text/x-python",
   "name": "python",
   "nbconvert_exporter": "python",
   "pygments_lexer": "ipython3",
   "version": "3.12.0rc2"
  }
 },
 "nbformat": 4,
 "nbformat_minor": 2
}
