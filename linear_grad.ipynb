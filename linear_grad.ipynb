{
 "cells": [
  {
   "cell_type": "code",
   "execution_count": 1,
   "metadata": {},
   "outputs": [],
   "source": [
    "import numpy as np\n",
    "import pandas as pd\n",
    "import matplotlib.pyplot as plt"
   ]
  },
  {
   "cell_type": "code",
   "execution_count": 2,
   "metadata": {},
   "outputs": [
    {
     "data": {
      "text/html": [
       "<div>\n",
       "<style scoped>\n",
       "    .dataframe tbody tr th:only-of-type {\n",
       "        vertical-align: middle;\n",
       "    }\n",
       "\n",
       "    .dataframe tbody tr th {\n",
       "        vertical-align: top;\n",
       "    }\n",
       "\n",
       "    .dataframe thead th {\n",
       "        text-align: right;\n",
       "    }\n",
       "</style>\n",
       "<table border=\"1\" class=\"dataframe\">\n",
       "  <thead>\n",
       "    <tr style=\"text-align: right;\">\n",
       "      <th></th>\n",
       "      <th>Unnamed: 0</th>\n",
       "      <th>m_h</th>\n",
       "      <th>d_h</th>\n",
       "    </tr>\n",
       "  </thead>\n",
       "  <tbody>\n",
       "    <tr>\n",
       "      <th>0</th>\n",
       "      <td>0</td>\n",
       "      <td>58</td>\n",
       "      <td>60</td>\n",
       "    </tr>\n",
       "    <tr>\n",
       "      <th>1</th>\n",
       "      <td>1</td>\n",
       "      <td>62</td>\n",
       "      <td>60</td>\n",
       "    </tr>\n",
       "    <tr>\n",
       "      <th>2</th>\n",
       "      <td>2</td>\n",
       "      <td>60</td>\n",
       "      <td>58</td>\n",
       "    </tr>\n",
       "    <tr>\n",
       "      <th>3</th>\n",
       "      <td>3</td>\n",
       "      <td>64</td>\n",
       "      <td>60</td>\n",
       "    </tr>\n",
       "    <tr>\n",
       "      <th>4</th>\n",
       "      <td>4</td>\n",
       "      <td>67</td>\n",
       "      <td>70</td>\n",
       "    </tr>\n",
       "    <tr>\n",
       "      <th>5</th>\n",
       "      <td>5</td>\n",
       "      <td>70</td>\n",
       "      <td>72</td>\n",
       "    </tr>\n",
       "  </tbody>\n",
       "</table>\n",
       "</div>"
      ],
      "text/plain": [
       "   Unnamed: 0  m_h  d_h\n",
       "0           0   58   60\n",
       "1           1   62   60\n",
       "2           2   60   58\n",
       "3           3   64   60\n",
       "4           4   67   70\n",
       "5           5   70   72"
      ]
     },
     "execution_count": 2,
     "metadata": {},
     "output_type": "execute_result"
    }
   ],
   "source": [
    "df = pd.read_csv('height.csv')\n",
    "df"
   ]
  },
  {
   "cell_type": "code",
   "execution_count": 3,
   "metadata": {},
   "outputs": [],
   "source": [
    "x = df['m_h'].values\n",
    "y = df['d_h'].values"
   ]
  },
  {
   "cell_type": "code",
   "execution_count": 4,
   "metadata": {},
   "outputs": [],
   "source": [
    "def grad_desc(x,y,learning_rate,epochs):\n",
    "    b0 = 0\n",
    "    b1 = 0\n",
    "    errors = []\n",
    "\n",
    "    for epoch in range(epochs):\n",
    "        for i in range(y.shape[0]):\n",
    "\n",
    "            y_pred = b0 + b1 * x[i]\n",
    "            error = y_pred - y[i]\n",
    "            errors.append(error**2)\n",
    "\n",
    "            b0 -= learning_rate * error\n",
    "            b1 -= learning_rate * error * x[i]\n",
    "\n",
    "    return b0,b1,errors"
   ]
  },
  {
   "cell_type": "code",
   "execution_count": 5,
   "metadata": {},
   "outputs": [],
   "source": [
    "b0,b1,errors = grad_desc(x,y,0.01,5)"
   ]
  },
  {
   "cell_type": "code",
   "execution_count": 6,
   "metadata": {},
   "outputs": [
    {
     "data": {
      "text/plain": [
       "-9.02098107605872e+45"
      ]
     },
     "execution_count": 6,
     "metadata": {},
     "output_type": "execute_result"
    }
   ],
   "source": [
    "b0"
   ]
  },
  {
   "cell_type": "code",
   "execution_count": 7,
   "metadata": {},
   "outputs": [
    {
     "data": {
      "text/plain": [
       "-6.320440099186531e+47"
      ]
     },
     "execution_count": 7,
     "metadata": {},
     "output_type": "execute_result"
    }
   ],
   "source": [
    "b1"
   ]
  },
  {
   "cell_type": "code",
   "execution_count": 8,
   "metadata": {},
   "outputs": [
    {
     "data": {
      "text/plain": [
       "[3600,\n",
       " 4402443.239999999,\n",
       " 5782602029.470085,\n",
       " 8063998779671.913,\n",
       " 1.4118838908524894e+16,\n",
       " 2.970066793050099e+19,\n",
       " 4.700306393174538e+22,\n",
       " 5.725365156228818e+25,\n",
       " 7.520270660351564e+28,\n",
       " 1.0487212059644784e+32,\n",
       " 1.836151564511978e+35,\n",
       " 3.8625646356814505e+38,\n",
       " 6.112737024490258e+41,\n",
       " 7.445823450996572e+44,\n",
       " 9.780093690577755e+47,\n",
       " 1.3638593759268774e+51,\n",
       " 2.3879106407306585e+54,\n",
       " 5.023255907801455e+57,\n",
       " 7.949599622865634e+60,\n",
       " 9.683275276004925e+63,\n",
       " 1.271898804131704e+67,\n",
       " 1.773695798963999e+70,\n",
       " 3.1054719764543235e+73,\n",
       " 6.532732082245276e+76,\n",
       " 1.0338434961405101e+80,\n",
       " 1.2593075928806567e+83,\n",
       " 1.6541012991625987e+86,\n",
       " 2.3066870696434704e+89,\n",
       " 4.038658747126421e+92,\n",
       " 8.495802173271143e+95]"
      ]
     },
     "execution_count": 8,
     "metadata": {},
     "output_type": "execute_result"
    }
   ],
   "source": [
    "errors"
   ]
  },
  {
   "cell_type": "code",
   "execution_count": 9,
   "metadata": {},
   "outputs": [
    {
     "data": {
      "text/plain": [
       "4.022624312155949e+49"
      ]
     },
     "execution_count": 9,
     "metadata": {},
     "output_type": "execute_result"
    }
   ],
   "source": [
    "y_pred = x * b1 + b0\n",
    "rmse = np.sqrt(np.mean((y_pred-y)**2))\n",
    "rmse\n"
   ]
  },
  {
   "cell_type": "code",
   "execution_count": 10,
   "metadata": {},
   "outputs": [
    {
     "data": {
      "text/plain": [
       "[<matplotlib.lines.Line2D at 0x150d22c22d0>]"
      ]
     },
     "execution_count": 10,
     "metadata": {},
     "output_type": "execute_result"
    },
    {
     "data": {
      "image/png": "[encoded data removed]",
      "text/plain": [
       "<Figure size 640x480 with 1 Axes>"
      ]
     },
     "metadata": {},
     "output_type": "display_data"
    }
   ],
   "source": [
    "plt.plot(errors)"
   ]
  },
  {
   "cell_type": "code",
   "execution_count": 11,
   "metadata": {},
   "outputs": [
    {
     "data": {
      "text/html": [
       "<div>\n",
       "<style scoped>\n",
       "    .dataframe tbody tr th:only-of-type {\n",
       "        vertical-align: middle;\n",
       "    }\n",
       "\n",
       "    .dataframe tbody tr th {\n",
       "        vertical-align: top;\n",
       "    }\n",
       "\n",
       "    .dataframe thead th {\n",
       "        text-align: right;\n",
       "    }\n",
       "</style>\n",
       "<table border=\"1\" class=\"dataframe\">\n",
       "  <thead>\n",
       "    <tr style=\"text-align: right;\">\n",
       "      <th></th>\n",
       "      <th>Infarc</th>\n",
       "      <th>Area</th>\n",
       "      <th>Group</th>\n",
       "      <th>X2</th>\n",
       "      <th>X3</th>\n",
       "    </tr>\n",
       "  </thead>\n",
       "  <tbody>\n",
       "    <tr>\n",
       "      <th>0</th>\n",
       "      <td>0.119</td>\n",
       "      <td>0.34</td>\n",
       "      <td>3</td>\n",
       "      <td>0</td>\n",
       "      <td>0</td>\n",
       "    </tr>\n",
       "    <tr>\n",
       "      <th>1</th>\n",
       "      <td>0.190</td>\n",
       "      <td>0.64</td>\n",
       "      <td>3</td>\n",
       "      <td>0</td>\n",
       "      <td>0</td>\n",
       "    </tr>\n",
       "    <tr>\n",
       "      <th>2</th>\n",
       "      <td>0.395</td>\n",
       "      <td>0.76</td>\n",
       "      <td>3</td>\n",
       "      <td>0</td>\n",
       "      <td>0</td>\n",
       "    </tr>\n",
       "    <tr>\n",
       "      <th>3</th>\n",
       "      <td>0.469</td>\n",
       "      <td>0.83</td>\n",
       "      <td>3</td>\n",
       "      <td>0</td>\n",
       "      <td>0</td>\n",
       "    </tr>\n",
       "    <tr>\n",
       "      <th>4</th>\n",
       "      <td>0.130</td>\n",
       "      <td>0.73</td>\n",
       "      <td>3</td>\n",
       "      <td>0</td>\n",
       "      <td>0</td>\n",
       "    </tr>\n",
       "    <tr>\n",
       "      <th>5</th>\n",
       "      <td>0.311</td>\n",
       "      <td>0.82</td>\n",
       "      <td>3</td>\n",
       "      <td>0</td>\n",
       "      <td>0</td>\n",
       "    </tr>\n",
       "    <tr>\n",
       "      <th>6</th>\n",
       "      <td>0.418</td>\n",
       "      <td>0.95</td>\n",
       "      <td>3</td>\n",
       "      <td>0</td>\n",
       "      <td>0</td>\n",
       "    </tr>\n",
       "    <tr>\n",
       "      <th>7</th>\n",
       "      <td>0.480</td>\n",
       "      <td>1.06</td>\n",
       "      <td>3</td>\n",
       "      <td>0</td>\n",
       "      <td>0</td>\n",
       "    </tr>\n",
       "    <tr>\n",
       "      <th>8</th>\n",
       "      <td>0.687</td>\n",
       "      <td>1.20</td>\n",
       "      <td>3</td>\n",
       "      <td>0</td>\n",
       "      <td>0</td>\n",
       "    </tr>\n",
       "    <tr>\n",
       "      <th>9</th>\n",
       "      <td>0.847</td>\n",
       "      <td>1.47</td>\n",
       "      <td>3</td>\n",
       "      <td>0</td>\n",
       "      <td>0</td>\n",
       "    </tr>\n",
       "    <tr>\n",
       "      <th>10</th>\n",
       "      <td>0.062</td>\n",
       "      <td>0.44</td>\n",
       "      <td>1</td>\n",
       "      <td>1</td>\n",
       "      <td>0</td>\n",
       "    </tr>\n",
       "    <tr>\n",
       "      <th>11</th>\n",
       "      <td>0.122</td>\n",
       "      <td>0.77</td>\n",
       "      <td>1</td>\n",
       "      <td>1</td>\n",
       "      <td>0</td>\n",
       "    </tr>\n",
       "    <tr>\n",
       "      <th>12</th>\n",
       "      <td>0.033</td>\n",
       "      <td>0.90</td>\n",
       "      <td>1</td>\n",
       "      <td>1</td>\n",
       "      <td>0</td>\n",
       "    </tr>\n",
       "    <tr>\n",
       "      <th>13</th>\n",
       "      <td>0.102</td>\n",
       "      <td>1.07</td>\n",
       "      <td>1</td>\n",
       "      <td>1</td>\n",
       "      <td>0</td>\n",
       "    </tr>\n",
       "    <tr>\n",
       "      <th>14</th>\n",
       "      <td>0.206</td>\n",
       "      <td>1.01</td>\n",
       "      <td>1</td>\n",
       "      <td>1</td>\n",
       "      <td>0</td>\n",
       "    </tr>\n",
       "    <tr>\n",
       "      <th>15</th>\n",
       "      <td>0.249</td>\n",
       "      <td>1.03</td>\n",
       "      <td>1</td>\n",
       "      <td>1</td>\n",
       "      <td>0</td>\n",
       "    </tr>\n",
       "    <tr>\n",
       "      <th>16</th>\n",
       "      <td>0.220</td>\n",
       "      <td>1.16</td>\n",
       "      <td>1</td>\n",
       "      <td>1</td>\n",
       "      <td>0</td>\n",
       "    </tr>\n",
       "    <tr>\n",
       "      <th>17</th>\n",
       "      <td>0.299</td>\n",
       "      <td>1.21</td>\n",
       "      <td>1</td>\n",
       "      <td>1</td>\n",
       "      <td>0</td>\n",
       "    </tr>\n",
       "    <tr>\n",
       "      <th>18</th>\n",
       "      <td>0.350</td>\n",
       "      <td>1.20</td>\n",
       "      <td>1</td>\n",
       "      <td>1</td>\n",
       "      <td>0</td>\n",
       "    </tr>\n",
       "    <tr>\n",
       "      <th>19</th>\n",
       "      <td>0.350</td>\n",
       "      <td>1.22</td>\n",
       "      <td>1</td>\n",
       "      <td>1</td>\n",
       "      <td>0</td>\n",
       "    </tr>\n",
       "    <tr>\n",
       "      <th>20</th>\n",
       "      <td>0.588</td>\n",
       "      <td>0.99</td>\n",
       "      <td>1</td>\n",
       "      <td>1</td>\n",
       "      <td>0</td>\n",
       "    </tr>\n",
       "    <tr>\n",
       "      <th>21</th>\n",
       "      <td>0.379</td>\n",
       "      <td>0.77</td>\n",
       "      <td>2</td>\n",
       "      <td>0</td>\n",
       "      <td>1</td>\n",
       "    </tr>\n",
       "    <tr>\n",
       "      <th>22</th>\n",
       "      <td>0.149</td>\n",
       "      <td>1.05</td>\n",
       "      <td>2</td>\n",
       "      <td>0</td>\n",
       "      <td>1</td>\n",
       "    </tr>\n",
       "    <tr>\n",
       "      <th>23</th>\n",
       "      <td>0.316</td>\n",
       "      <td>1.06</td>\n",
       "      <td>2</td>\n",
       "      <td>0</td>\n",
       "      <td>1</td>\n",
       "    </tr>\n",
       "    <tr>\n",
       "      <th>24</th>\n",
       "      <td>0.390</td>\n",
       "      <td>1.02</td>\n",
       "      <td>2</td>\n",
       "      <td>0</td>\n",
       "      <td>1</td>\n",
       "    </tr>\n",
       "    <tr>\n",
       "      <th>25</th>\n",
       "      <td>0.429</td>\n",
       "      <td>0.99</td>\n",
       "      <td>2</td>\n",
       "      <td>0</td>\n",
       "      <td>1</td>\n",
       "    </tr>\n",
       "    <tr>\n",
       "      <th>26</th>\n",
       "      <td>0.477</td>\n",
       "      <td>0.97</td>\n",
       "      <td>2</td>\n",
       "      <td>0</td>\n",
       "      <td>1</td>\n",
       "    </tr>\n",
       "    <tr>\n",
       "      <th>27</th>\n",
       "      <td>0.439</td>\n",
       "      <td>1.12</td>\n",
       "      <td>2</td>\n",
       "      <td>0</td>\n",
       "      <td>1</td>\n",
       "    </tr>\n",
       "    <tr>\n",
       "      <th>28</th>\n",
       "      <td>0.446</td>\n",
       "      <td>1.23</td>\n",
       "      <td>2</td>\n",
       "      <td>0</td>\n",
       "      <td>1</td>\n",
       "    </tr>\n",
       "    <tr>\n",
       "      <th>29</th>\n",
       "      <td>0.538</td>\n",
       "      <td>1.19</td>\n",
       "      <td>2</td>\n",
       "      <td>0</td>\n",
       "      <td>1</td>\n",
       "    </tr>\n",
       "    <tr>\n",
       "      <th>30</th>\n",
       "      <td>0.625</td>\n",
       "      <td>1.22</td>\n",
       "      <td>2</td>\n",
       "      <td>0</td>\n",
       "      <td>1</td>\n",
       "    </tr>\n",
       "    <tr>\n",
       "      <th>31</th>\n",
       "      <td>0.974</td>\n",
       "      <td>1.40</td>\n",
       "      <td>2</td>\n",
       "      <td>0</td>\n",
       "      <td>1</td>\n",
       "    </tr>\n",
       "  </tbody>\n",
       "</table>\n",
       "</div>"
      ],
      "text/plain": [
       "    Infarc  Area  Group  X2  X3\n",
       "0    0.119  0.34      3   0   0\n",
       "1    0.190  0.64      3   0   0\n",
       "2    0.395  0.76      3   0   0\n",
       "3    0.469  0.83      3   0   0\n",
       "4    0.130  0.73      3   0   0\n",
       "5    0.311  0.82      3   0   0\n",
       "6    0.418  0.95      3   0   0\n",
       "7    0.480  1.06      3   0   0\n",
       "8    0.687  1.20      3   0   0\n",
       "9    0.847  1.47      3   0   0\n",
       "10   0.062  0.44      1   1   0\n",
       "11   0.122  0.77      1   1   0\n",
       "12   0.033  0.90      1   1   0\n",
       "13   0.102  1.07      1   1   0\n",
       "14   0.206  1.01      1   1   0\n",
       "15   0.249  1.03      1   1   0\n",
       "16   0.220  1.16      1   1   0\n",
       "17   0.299  1.21      1   1   0\n",
       "18   0.350  1.20      1   1   0\n",
       "19   0.350  1.22      1   1   0\n",
       "20   0.588  0.99      1   1   0\n",
       "21   0.379  0.77      2   0   1\n",
       "22   0.149  1.05      2   0   1\n",
       "23   0.316  1.06      2   0   1\n",
       "24   0.390  1.02      2   0   1\n",
       "25   0.429  0.99      2   0   1\n",
       "26   0.477  0.97      2   0   1\n",
       "27   0.439  1.12      2   0   1\n",
       "28   0.446  1.23      2   0   1\n",
       "29   0.538  1.19      2   0   1\n",
       "30   0.625  1.22      2   0   1\n",
       "31   0.974  1.40      2   0   1"
      ]
     },
     "execution_count": 11,
     "metadata": {},
     "output_type": "execute_result"
    }
   ],
   "source": [
    "df = pd.read_csv('infarc.csv')\n",
    "df"
   ]
  },
  {
   "cell_type": "code",
   "execution_count": 35,
   "metadata": {},
   "outputs": [],
   "source": [
    "y = df['Infarc'].values\n",
    "x = df.drop(columns='Infarc').values\n"
   ]
  },
  {
   "cell_type": "code",
   "execution_count": 36,
   "metadata": {},
   "outputs": [
    {
     "data": {
      "text/plain": [
       "array([[1.  , 0.34, 3.  , 0.  , 0.  ],\n",
       "       [1.  , 0.64, 3.  , 0.  , 0.  ],\n",
       "       [1.  , 0.76, 3.  , 0.  , 0.  ],\n",
       "       [1.  , 0.83, 3.  , 0.  , 0.  ],\n",
       "       [1.  , 0.73, 3.  , 0.  , 0.  ],\n",
       "       [1.  , 0.82, 3.  , 0.  , 0.  ],\n",
       "       [1.  , 0.95, 3.  , 0.  , 0.  ],\n",
       "       [1.  , 1.06, 3.  , 0.  , 0.  ],\n",
       "       [1.  , 1.2 , 3.  , 0.  , 0.  ],\n",
       "       [1.  , 1.47, 3.  , 0.  , 0.  ],\n",
       "       [1.  , 0.44, 1.  , 1.  , 0.  ],\n",
       "       [1.  , 0.77, 1.  , 1.  , 0.  ],\n",
       "       [1.  , 0.9 , 1.  , 1.  , 0.  ],\n",
       "       [1.  , 1.07, 1.  , 1.  , 0.  ],\n",
       "       [1.  , 1.01, 1.  , 1.  , 0.  ],\n",
       "       [1.  , 1.03, 1.  , 1.  , 0.  ],\n",
       "       [1.  , 1.16, 1.  , 1.  , 0.  ],\n",
       "       [1.  , 1.21, 1.  , 1.  , 0.  ],\n",
       "       [1.  , 1.2 , 1.  , 1.  , 0.  ],\n",
       "       [1.  , 1.22, 1.  , 1.  , 0.  ],\n",
       "       [1.  , 0.99, 1.  , 1.  , 0.  ],\n",
       "       [1.  , 0.77, 2.  , 0.  , 1.  ],\n",
       "       [1.  , 1.05, 2.  , 0.  , 1.  ],\n",
       "       [1.  , 1.06, 2.  , 0.  , 1.  ],\n",
       "       [1.  , 1.02, 2.  , 0.  , 1.  ],\n",
       "       [1.  , 0.99, 2.  , 0.  , 1.  ],\n",
       "       [1.  , 0.97, 2.  , 0.  , 1.  ],\n",
       "       [1.  , 1.12, 2.  , 0.  , 1.  ],\n",
       "       [1.  , 1.23, 2.  , 0.  , 1.  ],\n",
       "       [1.  , 1.19, 2.  , 0.  , 1.  ],\n",
       "       [1.  , 1.22, 2.  , 0.  , 1.  ],\n",
       "       [1.  , 1.4 , 2.  , 0.  , 1.  ]])"
      ]
     },
     "execution_count": 36,
     "metadata": {},
     "output_type": "execute_result"
    }
   ],
   "source": [
    "x_b = np.c_[np.ones(x.shape[0]),x]\n",
    "x_b"
   ]
  },
  {
   "cell_type": "code",
   "execution_count": 37,
   "metadata": {},
   "outputs": [],
   "source": [
    "def grad_desc(x,y,learning_rate,epochs):\n",
    "    b = np.zeros(x.shape[1])\n",
    "    errors = []\n",
    "\n",
    "    for epoch in range(epochs):\n",
    "        for i in range(y.shape[0]):\n",
    "\n",
    "            y_pred = np.dot(b, x[i])\n",
    "            error = y_pred - y[i]\n",
    "            errors.append(error**2)\n",
    "\n",
    "      \n",
    "            b -= learning_rate * error * x[i]\n",
    "\n",
    "    return b,errors"
   ]
  },
  {
   "cell_type": "code",
   "execution_count": 38,
   "metadata": {},
   "outputs": [],
   "source": [
    "b,errors = grad_desc(x,y,0.01,5)"
   ]
  },
  {
   "cell_type": "code",
   "execution_count": 39,
   "metadata": {},
   "outputs": [
    {
     "data": {
      "text/plain": [
       "[<matplotlib.lines.Line2D at 0x150d5056630>]"
      ]
     },
     "execution_count": 39,
     "metadata": {},
     "output_type": "execute_result"
    },
    {
     "data": {
      "image/png": "[encoded data removed]",
      "text/plain": [
       "<Figure size 640x480 with 1 Axes>"
      ]
     },
     "metadata": {},
     "output_type": "display_data"
    }
   ],
   "source": [
    "plt.plot(errors)"
   ]
  },
  {
   "cell_type": "code",
   "execution_count": 40,
   "metadata": {},
   "outputs": [],
   "source": [
    "y_pred = x @ b"
   ]
  },
  {
   "cell_type": "code",
   "execution_count": 41,
   "metadata": {},
   "outputs": [
    {
     "data": {
      "text/plain": [
       "array([0.46237008, 0.49903548, 0.51370164, 0.5222569 , 0.5100351 ,\n",
       "       0.52103472, 0.53692306, 0.55036704, 0.56747755, 0.60047641,\n",
       "       0.20749847, 0.24783041, 0.26371875, 0.28449581, 0.27716273,\n",
       "       0.27960709, 0.29549543, 0.30160633, 0.30038415, 0.30282851,\n",
       "       0.27471837, 0.4253047 , 0.45952574, 0.46074792, 0.4558592 ,\n",
       "       0.45219266, 0.4497483 , 0.468081  , 0.48152498, 0.47663626,\n",
       "       0.4803028 , 0.50230203])"
      ]
     },
     "execution_count": 41,
     "metadata": {},
     "output_type": "execute_result"
    }
   ],
   "source": [
    "y_pred"
   ]
  },
  {
   "cell_type": "code",
   "execution_count": 49,
   "metadata": {},
   "outputs": [
    {
     "data": {
      "text/plain": [
       "[<matplotlib.lines.Line2D at 0x150d80f5310>]"
      ]
     },
     "execution_count": 49,
     "metadata": {},
     "output_type": "execute_result"
    },
    {
     "data": {
      "image/png": "[encoded data removed]",
      "text/plain": [
       "<Figure size 640x480 with 1 Axes>"
      ]
     },
     "metadata": {},
     "output_type": "display_data"
    }
   ],
   "source": [
    "plt.scatter(x[:,1],y)\n",
    "plt.plot(x[:,1],y_pred)"
   ]
  },
  {
   "cell_type": "code",
   "execution_count": null,
   "metadata": {},
   "outputs": [],
   "source": []
  }
 ],
 "metadata": {
  "kernelspec": {
   "display_name": "Python 3",
   "language": "python",
   "name": "python3"
  },
  "language_info": {
   "codemirror_mode": {
    "name": "ipython",
    "version": 3
   },
   "file_extension": ".py",
   "mimetype": "text/x-python",
   "name": "python",
   "nbconvert_exporter": "python",
   "pygments_lexer": "ipython3",
   "version": "3.12.0rc2"
  }
 },
 "nbformat": 4,
 "nbformat_minor": 2
}
