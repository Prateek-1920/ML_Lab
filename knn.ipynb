{
 "cells": [
  {
   "cell_type": "code",
   "execution_count": 31,
   "metadata": {},
   "outputs": [],
   "source": [
    "import pandas as pd\n",
    "import numpy as np\n",
    "import matplotlib.pyplot as plt"
   ]
  },
  {
   "cell_type": "code",
   "execution_count": 2,
   "metadata": {},
   "outputs": [
    {
     "data": {
      "text/html": [
       "<div>\n",
       "<style scoped>\n",
       "    .dataframe tbody tr th:only-of-type {\n",
       "        vertical-align: middle;\n",
       "    }\n",
       "\n",
       "    .dataframe tbody tr th {\n",
       "        vertical-align: top;\n",
       "    }\n",
       "\n",
       "    .dataframe thead th {\n",
       "        text-align: right;\n",
       "    }\n",
       "</style>\n",
       "<table border=\"1\" class=\"dataframe\">\n",
       "  <thead>\n",
       "    <tr style=\"text-align: right;\">\n",
       "      <th></th>\n",
       "      <th>weight</th>\n",
       "      <th>sweetness level</th>\n",
       "      <th>label</th>\n",
       "    </tr>\n",
       "  </thead>\n",
       "  <tbody>\n",
       "    <tr>\n",
       "      <th>0</th>\n",
       "      <td>180</td>\n",
       "      <td>7</td>\n",
       "      <td>Apple</td>\n",
       "    </tr>\n",
       "    <tr>\n",
       "      <th>1</th>\n",
       "      <td>200</td>\n",
       "      <td>6</td>\n",
       "      <td>Apple</td>\n",
       "    </tr>\n",
       "    <tr>\n",
       "      <th>2</th>\n",
       "      <td>150</td>\n",
       "      <td>4</td>\n",
       "      <td>Orange</td>\n",
       "    </tr>\n",
       "    <tr>\n",
       "      <th>3</th>\n",
       "      <td>170</td>\n",
       "      <td>5</td>\n",
       "      <td>Orange</td>\n",
       "    </tr>\n",
       "    <tr>\n",
       "      <th>4</th>\n",
       "      <td>160</td>\n",
       "      <td>6</td>\n",
       "      <td>Apple</td>\n",
       "    </tr>\n",
       "    <tr>\n",
       "      <th>5</th>\n",
       "      <td>140</td>\n",
       "      <td>3</td>\n",
       "      <td>Orange</td>\n",
       "    </tr>\n",
       "  </tbody>\n",
       "</table>\n",
       "</div>"
      ],
      "text/plain": [
       "   weight  sweetness level   label\n",
       "0     180                7   Apple\n",
       "1     200                6   Apple\n",
       "2     150                4  Orange\n",
       "3     170                5  Orange\n",
       "4     160                6   Apple\n",
       "5     140                3  Orange"
      ]
     },
     "execution_count": 2,
     "metadata": {},
     "output_type": "execute_result"
    }
   ],
   "source": [
    "df = pd.read_csv('files/fruits.csv')\n",
    "df"
   ]
  },
  {
   "cell_type": "code",
   "execution_count": 3,
   "metadata": {},
   "outputs": [],
   "source": [
    "def euclid(x,y):\n",
    "    return ((x[0]-y[0]) ** 2 + (x[1]-y[1]) ** 2) ** 0.5\n",
    "\n",
    "def manhattan(x,y):\n",
    "    return abs(x[0]-y[0]) + abs(x[1]-y[1])\n",
    "\n",
    "def mink(x,y,p):\n",
    "    return ((x[0]-y[0]) ** p + (x[1]-y[1]) ** p) ** p"
   ]
  },
  {
   "cell_type": "code",
   "execution_count": 28,
   "metadata": {},
   "outputs": [],
   "source": [
    "new_weight = 165\n",
    "new_sweet = 5.5\n",
    "k = 3"
   ]
  },
  {
   "cell_type": "code",
   "execution_count": 66,
   "metadata": {},
   "outputs": [],
   "source": [
    "# df['distance'] = euclid((df['weight'],df['sweetness level']),(165,5.5))\n",
    "\n",
    "df['distance'] = df.apply(lambda row :  euclid((row['weight'],row['sweetness level']),(new_weight,new_sweet)),axis=1)"
   ]
  },
  {
   "cell_type": "code",
   "execution_count": 6,
   "metadata": {},
   "outputs": [
    {
     "data": {
      "text/html": [
       "<div>\n",
       "<style scoped>\n",
       "    .dataframe tbody tr th:only-of-type {\n",
       "        vertical-align: middle;\n",
       "    }\n",
       "\n",
       "    .dataframe tbody tr th {\n",
       "        vertical-align: top;\n",
       "    }\n",
       "\n",
       "    .dataframe thead th {\n",
       "        text-align: right;\n",
       "    }\n",
       "</style>\n",
       "<table border=\"1\" class=\"dataframe\">\n",
       "  <thead>\n",
       "    <tr style=\"text-align: right;\">\n",
       "      <th></th>\n",
       "      <th>weight</th>\n",
       "      <th>sweetness level</th>\n",
       "      <th>label</th>\n",
       "      <th>distance</th>\n",
       "    </tr>\n",
       "  </thead>\n",
       "  <tbody>\n",
       "    <tr>\n",
       "      <th>0</th>\n",
       "      <td>180</td>\n",
       "      <td>7</td>\n",
       "      <td>Apple</td>\n",
       "      <td>15.074813</td>\n",
       "    </tr>\n",
       "    <tr>\n",
       "      <th>1</th>\n",
       "      <td>200</td>\n",
       "      <td>6</td>\n",
       "      <td>Apple</td>\n",
       "      <td>35.003571</td>\n",
       "    </tr>\n",
       "    <tr>\n",
       "      <th>2</th>\n",
       "      <td>150</td>\n",
       "      <td>4</td>\n",
       "      <td>Orange</td>\n",
       "      <td>15.074813</td>\n",
       "    </tr>\n",
       "    <tr>\n",
       "      <th>3</th>\n",
       "      <td>170</td>\n",
       "      <td>5</td>\n",
       "      <td>Orange</td>\n",
       "      <td>5.024938</td>\n",
       "    </tr>\n",
       "    <tr>\n",
       "      <th>4</th>\n",
       "      <td>160</td>\n",
       "      <td>6</td>\n",
       "      <td>Apple</td>\n",
       "      <td>5.024938</td>\n",
       "    </tr>\n",
       "    <tr>\n",
       "      <th>5</th>\n",
       "      <td>140</td>\n",
       "      <td>3</td>\n",
       "      <td>Orange</td>\n",
       "      <td>25.124689</td>\n",
       "    </tr>\n",
       "  </tbody>\n",
       "</table>\n",
       "</div>"
      ],
      "text/plain": [
       "   weight  sweetness level   label   distance\n",
       "0     180                7   Apple  15.074813\n",
       "1     200                6   Apple  35.003571\n",
       "2     150                4  Orange  15.074813\n",
       "3     170                5  Orange   5.024938\n",
       "4     160                6   Apple   5.024938\n",
       "5     140                3  Orange  25.124689"
      ]
     },
     "execution_count": 6,
     "metadata": {},
     "output_type": "execute_result"
    }
   ],
   "source": [
    "df"
   ]
  },
  {
   "cell_type": "code",
   "execution_count": 7,
   "metadata": {},
   "outputs": [
    {
     "data": {
      "text/html": [
       "<div>\n",
       "<style scoped>\n",
       "    .dataframe tbody tr th:only-of-type {\n",
       "        vertical-align: middle;\n",
       "    }\n",
       "\n",
       "    .dataframe tbody tr th {\n",
       "        vertical-align: top;\n",
       "    }\n",
       "\n",
       "    .dataframe thead th {\n",
       "        text-align: right;\n",
       "    }\n",
       "</style>\n",
       "<table border=\"1\" class=\"dataframe\">\n",
       "  <thead>\n",
       "    <tr style=\"text-align: right;\">\n",
       "      <th></th>\n",
       "      <th>weight</th>\n",
       "      <th>sweetness level</th>\n",
       "      <th>label</th>\n",
       "      <th>distance</th>\n",
       "    </tr>\n",
       "  </thead>\n",
       "  <tbody>\n",
       "    <tr>\n",
       "      <th>3</th>\n",
       "      <td>170</td>\n",
       "      <td>5</td>\n",
       "      <td>Orange</td>\n",
       "      <td>5.024938</td>\n",
       "    </tr>\n",
       "    <tr>\n",
       "      <th>4</th>\n",
       "      <td>160</td>\n",
       "      <td>6</td>\n",
       "      <td>Apple</td>\n",
       "      <td>5.024938</td>\n",
       "    </tr>\n",
       "    <tr>\n",
       "      <th>0</th>\n",
       "      <td>180</td>\n",
       "      <td>7</td>\n",
       "      <td>Apple</td>\n",
       "      <td>15.074813</td>\n",
       "    </tr>\n",
       "    <tr>\n",
       "      <th>2</th>\n",
       "      <td>150</td>\n",
       "      <td>4</td>\n",
       "      <td>Orange</td>\n",
       "      <td>15.074813</td>\n",
       "    </tr>\n",
       "    <tr>\n",
       "      <th>5</th>\n",
       "      <td>140</td>\n",
       "      <td>3</td>\n",
       "      <td>Orange</td>\n",
       "      <td>25.124689</td>\n",
       "    </tr>\n",
       "    <tr>\n",
       "      <th>1</th>\n",
       "      <td>200</td>\n",
       "      <td>6</td>\n",
       "      <td>Apple</td>\n",
       "      <td>35.003571</td>\n",
       "    </tr>\n",
       "  </tbody>\n",
       "</table>\n",
       "</div>"
      ],
      "text/plain": [
       "   weight  sweetness level   label   distance\n",
       "3     170                5  Orange   5.024938\n",
       "4     160                6   Apple   5.024938\n",
       "0     180                7   Apple  15.074813\n",
       "2     150                4  Orange  15.074813\n",
       "5     140                3  Orange  25.124689\n",
       "1     200                6   Apple  35.003571"
      ]
     },
     "execution_count": 7,
     "metadata": {},
     "output_type": "execute_result"
    }
   ],
   "source": [
    "df = df.sort_values(by='distance',ascending=True)\n",
    "df"
   ]
  },
  {
   "cell_type": "code",
   "execution_count": 29,
   "metadata": {},
   "outputs": [
    {
     "data": {
      "text/html": [
       "<div>\n",
       "<style scoped>\n",
       "    .dataframe tbody tr th:only-of-type {\n",
       "        vertical-align: middle;\n",
       "    }\n",
       "\n",
       "    .dataframe tbody tr th {\n",
       "        vertical-align: top;\n",
       "    }\n",
       "\n",
       "    .dataframe thead th {\n",
       "        text-align: right;\n",
       "    }\n",
       "</style>\n",
       "<table border=\"1\" class=\"dataframe\">\n",
       "  <thead>\n",
       "    <tr style=\"text-align: right;\">\n",
       "      <th></th>\n",
       "      <th>weight</th>\n",
       "      <th>sweetness level</th>\n",
       "      <th>label</th>\n",
       "      <th>distance</th>\n",
       "    </tr>\n",
       "  </thead>\n",
       "  <tbody>\n",
       "    <tr>\n",
       "      <th>3</th>\n",
       "      <td>170</td>\n",
       "      <td>5</td>\n",
       "      <td>Orange</td>\n",
       "      <td>5.024938</td>\n",
       "    </tr>\n",
       "    <tr>\n",
       "      <th>4</th>\n",
       "      <td>160</td>\n",
       "      <td>6</td>\n",
       "      <td>Apple</td>\n",
       "      <td>5.024938</td>\n",
       "    </tr>\n",
       "    <tr>\n",
       "      <th>0</th>\n",
       "      <td>180</td>\n",
       "      <td>7</td>\n",
       "      <td>Apple</td>\n",
       "      <td>15.074813</td>\n",
       "    </tr>\n",
       "  </tbody>\n",
       "</table>\n",
       "</div>"
      ],
      "text/plain": [
       "   weight  sweetness level   label   distance\n",
       "3     170                5  Orange   5.024938\n",
       "4     160                6   Apple   5.024938\n",
       "0     180                7   Apple  15.074813"
      ]
     },
     "execution_count": 29,
     "metadata": {},
     "output_type": "execute_result"
    }
   ],
   "source": [
    "df_sliced = df[:k]\n",
    "df_sliced"
   ]
  },
  {
   "cell_type": "code",
   "execution_count": 45,
   "metadata": {},
   "outputs": [
    {
     "name": "stdout",
     "output_type": "stream",
     "text": [
      "label\n",
      "Apple     2\n",
      "Orange    1\n",
      "Name: count, dtype: int64\n",
      "Apple\n"
     ]
    }
   ],
   "source": [
    "counts = df_sliced.value_counts('label')\n",
    "print(counts)\n",
    "new = counts.idxmax()\n",
    "print(new)"
   ]
  },
  {
   "cell_type": "code",
   "execution_count": 35,
   "metadata": {},
   "outputs": [
    {
     "data": {
      "text/plain": [
       "(array([170, 160, 180, 150, 140, 200], dtype=int64),\n",
       " array([5, 6, 7, 4, 3, 6], dtype=int64),\n",
       " array(['Orange', 'Apple', 'Apple', 'Orange', 'Orange', 'Apple'],\n",
       "       dtype=object))"
      ]
     },
     "execution_count": 35,
     "metadata": {},
     "output_type": "execute_result"
    }
   ],
   "source": [
    "w = df['weight'].values\n",
    "s = df['sweetness level'].values   \n",
    "l = df['label'].values\n",
    "w,s,l "
   ]
  },
  {
   "cell_type": "code",
   "execution_count": 43,
   "metadata": {},
   "outputs": [
    {
     "data": {
      "image/png": "[encoded data removed]",
      "text/plain": [
       "<Figure size 640x480 with 1 Axes>"
      ]
     },
     "metadata": {},
     "output_type": "display_data"
    }
   ],
   "source": [
    "for weight, sweetness, label in zip(w,s,l):\n",
    "    color = 'red' if label==\"Apple\" else 'orange'\n",
    "    plt.scatter(weight,sweetness,color=color,label=label)\n",
    "plt.scatter(new_weight,new_sweet,color='blue',marker='x',label=\"new fruit\")\n",
    "plt.xlabel(\"Wight\")\n",
    "plt.ylabel(\"Sweetness\")\n",
    "plt.legend()\n",
    "plt.show()"
   ]
  },
  {
   "cell_type": "code",
   "execution_count": 76,
   "metadata": {},
   "outputs": [
    {
     "data": {
      "text/html": [
       "<div>\n",
       "<style scoped>\n",
       "    .dataframe tbody tr th:only-of-type {\n",
       "        vertical-align: middle;\n",
       "    }\n",
       "\n",
       "    .dataframe tbody tr th {\n",
       "        vertical-align: top;\n",
       "    }\n",
       "\n",
       "    .dataframe thead th {\n",
       "        text-align: right;\n",
       "    }\n",
       "</style>\n",
       "<table border=\"1\" class=\"dataframe\">\n",
       "  <thead>\n",
       "    <tr style=\"text-align: right;\">\n",
       "      <th></th>\n",
       "      <th>Acid</th>\n",
       "      <th>strength</th>\n",
       "      <th>classification</th>\n",
       "    </tr>\n",
       "  </thead>\n",
       "  <tbody>\n",
       "    <tr>\n",
       "      <th>0</th>\n",
       "      <td>7</td>\n",
       "      <td>7</td>\n",
       "      <td>bad</td>\n",
       "    </tr>\n",
       "    <tr>\n",
       "      <th>1</th>\n",
       "      <td>7</td>\n",
       "      <td>4</td>\n",
       "      <td>bad</td>\n",
       "    </tr>\n",
       "    <tr>\n",
       "      <th>2</th>\n",
       "      <td>3</td>\n",
       "      <td>4</td>\n",
       "      <td>good</td>\n",
       "    </tr>\n",
       "    <tr>\n",
       "      <th>3</th>\n",
       "      <td>1</td>\n",
       "      <td>4</td>\n",
       "      <td>good</td>\n",
       "    </tr>\n",
       "    <tr>\n",
       "      <th>4</th>\n",
       "      <td>4</td>\n",
       "      <td>5</td>\n",
       "      <td>bad</td>\n",
       "    </tr>\n",
       "    <tr>\n",
       "      <th>5</th>\n",
       "      <td>3</td>\n",
       "      <td>5</td>\n",
       "      <td>good</td>\n",
       "    </tr>\n",
       "    <tr>\n",
       "      <th>6</th>\n",
       "      <td>4</td>\n",
       "      <td>6</td>\n",
       "      <td>bad</td>\n",
       "    </tr>\n",
       "    <tr>\n",
       "      <th>7</th>\n",
       "      <td>8</td>\n",
       "      <td>7</td>\n",
       "      <td>bad</td>\n",
       "    </tr>\n",
       "    <tr>\n",
       "      <th>8</th>\n",
       "      <td>7</td>\n",
       "      <td>9</td>\n",
       "      <td>good</td>\n",
       "    </tr>\n",
       "    <tr>\n",
       "      <th>9</th>\n",
       "      <td>8</td>\n",
       "      <td>8</td>\n",
       "      <td>bad</td>\n",
       "    </tr>\n",
       "  </tbody>\n",
       "</table>\n",
       "</div>"
      ],
      "text/plain": [
       "   Acid  strength classification\n",
       "0     7         7            bad\n",
       "1     7         4            bad\n",
       "2     3         4           good\n",
       "3     1         4           good\n",
       "4     4         5            bad\n",
       "5     3         5           good\n",
       "6     4         6            bad\n",
       "7     8         7            bad\n",
       "8     7         9           good\n",
       "9     8         8            bad"
      ]
     },
     "execution_count": 76,
     "metadata": {},
     "output_type": "execute_result"
    }
   ],
   "source": [
    "data = {\n",
    "    'Acid' : [7,7,3,1,4,3,4,8,7,8],\n",
    "    'strength' : [7,4,4,4,5,5,6,7,9,8],\n",
    "    'classification' : ['bad','bad','good','good','bad','good','bad','bad','good','bad']\n",
    "}\n",
    "\n",
    "data = pd.DataFrame(data)\n",
    "data"
   ]
  },
  {
   "cell_type": "code",
   "execution_count": 81,
   "metadata": {},
   "outputs": [],
   "source": [
    "def knn(new_point,k):\n",
    "    # data['distance'] = data.apply(lambda row : euclid((row['Acid durability'],row['strength']),new_point),axis=1)\n",
    "    data['distance'] = euclid((data['Acid'],data['strength']),new_point)\n",
    "    data_sorted = data.sort_values(by='distance',ascending=True)\n",
    "    data_sliced = data_sorted[:k]\n",
    "    counts = data_sliced['classification'].value_counts()\n",
    "    return counts.idxmax()"
   ]
  },
  {
   "cell_type": "code",
   "execution_count": 82,
   "metadata": {},
   "outputs": [],
   "source": [
    "new_acid = 3\n",
    "new_strength = 7\n",
    "new_point = (new_acid,new_strength)\n",
    "ans = knn(new_point,3)\n"
   ]
  },
  {
   "cell_type": "code",
   "execution_count": 83,
   "metadata": {},
   "outputs": [
    {
     "data": {
      "text/html": [
       "<div>\n",
       "<style scoped>\n",
       "    .dataframe tbody tr th:only-of-type {\n",
       "        vertical-align: middle;\n",
       "    }\n",
       "\n",
       "    .dataframe tbody tr th {\n",
       "        vertical-align: top;\n",
       "    }\n",
       "\n",
       "    .dataframe thead th {\n",
       "        text-align: right;\n",
       "    }\n",
       "</style>\n",
       "<table border=\"1\" class=\"dataframe\">\n",
       "  <thead>\n",
       "    <tr style=\"text-align: right;\">\n",
       "      <th></th>\n",
       "      <th>Acid</th>\n",
       "      <th>strength</th>\n",
       "      <th>classification</th>\n",
       "      <th>distance</th>\n",
       "    </tr>\n",
       "  </thead>\n",
       "  <tbody>\n",
       "    <tr>\n",
       "      <th>0</th>\n",
       "      <td>7</td>\n",
       "      <td>7</td>\n",
       "      <td>bad</td>\n",
       "      <td>4.000000</td>\n",
       "    </tr>\n",
       "    <tr>\n",
       "      <th>1</th>\n",
       "      <td>7</td>\n",
       "      <td>4</td>\n",
       "      <td>bad</td>\n",
       "      <td>5.000000</td>\n",
       "    </tr>\n",
       "    <tr>\n",
       "      <th>2</th>\n",
       "      <td>3</td>\n",
       "      <td>4</td>\n",
       "      <td>good</td>\n",
       "      <td>3.000000</td>\n",
       "    </tr>\n",
       "    <tr>\n",
       "      <th>3</th>\n",
       "      <td>1</td>\n",
       "      <td>4</td>\n",
       "      <td>good</td>\n",
       "      <td>3.605551</td>\n",
       "    </tr>\n",
       "    <tr>\n",
       "      <th>4</th>\n",
       "      <td>4</td>\n",
       "      <td>5</td>\n",
       "      <td>bad</td>\n",
       "      <td>2.236068</td>\n",
       "    </tr>\n",
       "    <tr>\n",
       "      <th>5</th>\n",
       "      <td>3</td>\n",
       "      <td>5</td>\n",
       "      <td>good</td>\n",
       "      <td>2.000000</td>\n",
       "    </tr>\n",
       "    <tr>\n",
       "      <th>6</th>\n",
       "      <td>4</td>\n",
       "      <td>6</td>\n",
       "      <td>bad</td>\n",
       "      <td>1.414214</td>\n",
       "    </tr>\n",
       "    <tr>\n",
       "      <th>7</th>\n",
       "      <td>8</td>\n",
       "      <td>7</td>\n",
       "      <td>bad</td>\n",
       "      <td>5.000000</td>\n",
       "    </tr>\n",
       "    <tr>\n",
       "      <th>8</th>\n",
       "      <td>7</td>\n",
       "      <td>9</td>\n",
       "      <td>good</td>\n",
       "      <td>4.472136</td>\n",
       "    </tr>\n",
       "    <tr>\n",
       "      <th>9</th>\n",
       "      <td>8</td>\n",
       "      <td>8</td>\n",
       "      <td>bad</td>\n",
       "      <td>5.099020</td>\n",
       "    </tr>\n",
       "  </tbody>\n",
       "</table>\n",
       "</div>"
      ],
      "text/plain": [
       "   Acid  strength classification  distance\n",
       "0     7         7            bad  4.000000\n",
       "1     7         4            bad  5.000000\n",
       "2     3         4           good  3.000000\n",
       "3     1         4           good  3.605551\n",
       "4     4         5            bad  2.236068\n",
       "5     3         5           good  2.000000\n",
       "6     4         6            bad  1.414214\n",
       "7     8         7            bad  5.000000\n",
       "8     7         9           good  4.472136\n",
       "9     8         8            bad  5.099020"
      ]
     },
     "execution_count": 83,
     "metadata": {},
     "output_type": "execute_result"
    }
   ],
   "source": [
    "data"
   ]
  },
  {
   "cell_type": "code",
   "execution_count": 84,
   "metadata": {},
   "outputs": [
    {
     "data": {
      "text/plain": [
       "'bad'"
      ]
     },
     "execution_count": 84,
     "metadata": {},
     "output_type": "execute_result"
    }
   ],
   "source": [
    "ans"
   ]
  },
  {
   "cell_type": "markdown",
   "metadata": {},
   "source": [
    "## Final Merged Code with all functionalities "
   ]
  },
  {
   "cell_type": "code",
   "execution_count": 7,
   "metadata": {},
   "outputs": [],
   "source": [
    "import pandas as pd\n",
    "import numpy as np\n",
    "import matplotlib.pyplot as plt\n",
    "\n",
    "# Step 1: Load the data\n",
    "data = {\n",
    "    'Acid': [7, 7, 3, 1, 4, 3, 4, 8, 7, 8],\n",
    "    'strength': [7, 4, 4, 4, 5, 5, 6, 7, 9, 8],\n",
    "    'classification': ['bad', 'bad', 'good', 'good', 'bad', 'good', 'bad', 'bad', 'good', 'bad']\n",
    "}\n",
    "data = pd.DataFrame(data)\n",
    "\n",
    "# Step 2: Define distance functions\n",
    "def euclidean(p1, p2):\n",
    "    return np.sqrt((p1[0] - p2[0])**2 + (p1[1] - p2[1])**2)\n",
    "\n",
    "def manhattan(p1, p2):\n",
    "    return abs(p1[0] - p2[0]) + abs(p1[1] - p2[1])\n",
    "\n",
    "def minkowski(p1, p2, p=3):\n",
    "    return (abs(p1[0] - p2[0])**p + abs(p1[1] - p2[1])**p) ** (1/p)"
   ]
  },
  {
   "cell_type": "code",
   "execution_count": 8,
   "metadata": {},
   "outputs": [],
   "source": [
    "def knn(new_point, k, distance_metric='euclidean', p=3):\n",
    "    # Compute distance based on the selected metric\n",
    "    if distance_metric == 'euclidean':\n",
    "        data['distance'] = data.apply(lambda row: euclidean((row['Acid'], row['strength']), new_point), axis=1)\n",
    "    elif distance_metric == 'manhattan':\n",
    "        data['distance'] = data.apply(lambda row: manhattan((row['Acid'], row['strength']), new_point), axis=1)\n",
    "    elif distance_metric == 'minkowski':\n",
    "        data['distance'] = data.apply(lambda row: minkowski((row['Acid'], row['strength']), new_point, p=p), axis=1)\n",
    "    else:\n",
    "        raise ValueError(\"Unsupported distance metric. Choose from 'euclidean', 'manhattan', or 'minkowski'.\")\n",
    "    \n",
    "    # Sort data by distance and select top k nearest neighbors\n",
    "    data_sorted = data.sort_values(by='distance').reset_index(drop=True)\n",
    "    neighbors = data_sorted[:k]\n",
    "    \n",
    "    # Get the most common classification among neighbors\n",
    "    classification = neighbors['classification'].value_counts().idxmax()\n",
    "    return classification, neighbors"
   ]
  },
  {
   "cell_type": "code",
   "execution_count": 9,
   "metadata": {},
   "outputs": [],
   "source": [
    "def plot_knn(data, new_point, neighbors, k):\n",
    "    # Plot data points\n",
    "    plt.scatter(data['Acid'], data['strength'], c=data['classification'].map({'good': 'blue', 'bad': 'red'}), label='Data Points')\n",
    "    # Highlight new point\n",
    "    plt.scatter(new_point[0], new_point[1], color='green', label='New Point', marker='X', s=100)\n",
    "    # Highlight k-nearest neighbors\n",
    "    plt.scatter(neighbors['Acid'], neighbors['strength'], facecolors='none', edgecolors='black', s=100, label=f'{k} Neighbors')\n",
    "    \n",
    "    plt.xlabel('Acid')\n",
    "    plt.ylabel('Strength')\n",
    "    plt.legend()\n",
    "    plt.title(f'KNN Classification with k={k}')\n",
    "    plt.show()"
   ]
  },
  {
   "cell_type": "code",
   "execution_count": 15,
   "metadata": {},
   "outputs": [
    {
     "name": "stdout",
     "output_type": "stream",
     "text": [
      "The new point is classified as: bad\n"
     ]
    },
    {
     "data": {
      "image/png": "[encoded data removed]",
      "text/plain": [
       "<Figure size 640x480 with 1 Axes>"
      ]
     },
     "metadata": {},
     "output_type": "display_data"
    }
   ],
   "source": [
    "new_acid = 3\n",
    "new_strength = 7\n",
    "new_point = (new_acid, new_strength)\n",
    "k = 3\n",
    "\n",
    "# Run KNN to classify the new point\n",
    "classification, neighbors = knn(new_point, k, distance_metric='euclidean')\n",
    "print(f\"The new point is classified as: {classification}\")\n",
    "\n",
    "# Plot the data with neighbors\n",
    "plot_knn(data, new_point, neighbors, k)"
   ]
  },
  {
   "cell_type": "code",
   "execution_count": null,
   "metadata": {},
   "outputs": [],
   "source": []
  }
 ],
 "metadata": {
  "kernelspec": {
   "display_name": "Python 3",
   "language": "python",
   "name": "python3"
  },
  "language_info": {
   "codemirror_mode": {
    "name": "ipython",
    "version": 3
   },
   "file_extension": ".py",
   "mimetype": "text/x-python",
   "name": "python",
   "nbconvert_exporter": "python",
   "pygments_lexer": "ipython3",
   "version": "3.12.0rc2"
  }
 },
 "nbformat": 4,
 "nbformat_minor": 2
}
